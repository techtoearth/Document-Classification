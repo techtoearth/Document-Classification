{
 "cells": [
  {
   "cell_type": "code",
   "execution_count": 6,
   "metadata": {},
   "outputs": [
    {
     "name": "stdout",
     "output_type": "stream",
     "text": [
      "('electronics', 60.0)\n",
      "('medical', 60.0)\n",
      "('electronics', 100.0)\n"
     ]
    }
   ],
   "source": [
    "import document_mod as s\n",
    "\n",
    "def document_fun(str):\n",
    "    print(s.document(str))\n",
    "    \n",
    "    \n",
    "document_fun(\"windows need to be installed\");\n",
    "document_fun(\"patient will be admitted to hospital as he is sick\");\n",
    "document_fun(\"the mobile phone is not working\");"
   ]
  },
  {
   "cell_type": "code",
   "execution_count": null,
   "metadata": {
    "collapsed": true
   },
   "outputs": [],
   "source": []
  },
  {
   "cell_type": "code",
   "execution_count": null,
   "metadata": {
    "collapsed": true
   },
   "outputs": [],
   "source": []
  }
 ],
 "metadata": {
  "kernelspec": {
   "display_name": "Python 3",
   "language": "python",
   "name": "python3"
  },
  "language_info": {
   "codemirror_mode": {
    "name": "ipython",
    "version": 3
   },
   "file_extension": ".py",
   "mimetype": "text/x-python",
   "name": "python",
   "nbconvert_exporter": "python",
   "pygments_lexer": "ipython3",
   "version": "3.6.4"
  }
 },
 "nbformat": 4,
 "nbformat_minor": 2
}
